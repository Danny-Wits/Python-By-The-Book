{
 "cells": [
  {
   "cell_type": "markdown",
   "metadata": {},
   "source": [
    "The print function  or method ... I don't know"
   ]
  },
  {
   "cell_type": "code",
   "execution_count": 1,
   "metadata": {},
   "outputs": [
    {
     "name": "stdout",
     "output_type": "stream",
     "text": [
      "Hi Bro\n",
      "10/2 = 5.0\n"
     ]
    }
   ],
   "source": [
    "print(\"Hi\",end=\" \")\n",
    "print(\"Bro\")\n",
    "print(f\"10/2 = {10/2}\") "
   ]
  },
  {
   "cell_type": "code",
   "execution_count": null,
   "metadata": {},
   "outputs": [],
   "source": []
  },
  {
   "cell_type": "markdown",
   "metadata": {},
   "source": [
    "Variable"
   ]
  },
  {
   "cell_type": "code",
   "execution_count": 65,
   "metadata": {},
   "outputs": [
    {
     "name": "stdout",
     "output_type": "stream",
     "text": [
      "Hi! Danny\n"
     ]
    }
   ],
   "source": [
    "name = \"Danny\"\n",
    "print(f\"Hi! {name}\")\n",
    "\n",
    "i = 100 \n",
    "floating_point_number = 1.1\n"
   ]
  }
 ],
 "metadata": {
  "kernelspec": {
   "display_name": "Python 3",
   "language": "python",
   "name": "python3"
  },
  "language_info": {
   "codemirror_mode": {
    "name": "ipython",
    "version": 3
   },
   "file_extension": ".py",
   "mimetype": "text/x-python",
   "name": "python",
   "nbconvert_exporter": "python",
   "pygments_lexer": "ipython3",
   "version": "3.11.4"
  }
 },
 "nbformat": 4,
 "nbformat_minor": 2
}
