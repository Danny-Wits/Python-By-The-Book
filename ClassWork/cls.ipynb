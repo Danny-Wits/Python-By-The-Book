{
 "cells": [
  {
   "cell_type": "code",
   "execution_count": 1,
   "metadata": {},
   "outputs": [
    {
     "data": {
      "text/plain": [
       "2"
      ]
     },
     "execution_count": 1,
     "metadata": {},
     "output_type": "execute_result"
    }
   ],
   "source": [
    "-10%3"
   ]
  },
  {
   "cell_type": "code",
   "execution_count": 2,
   "metadata": {},
   "outputs": [
    {
     "data": {
      "text/plain": [
       "-2"
      ]
     },
     "execution_count": 2,
     "metadata": {},
     "output_type": "execute_result"
    }
   ],
   "source": [
    "10%-3"
   ]
  },
  {
   "cell_type": "code",
   "execution_count": 3,
   "metadata": {},
   "outputs": [
    {
     "name": "stdout",
     "output_type": "stream",
     "text": [
      "Adult\n"
     ]
    }
   ],
   "source": [
    "a=25 \n",
    "if a >=18:\n",
    "    print(\"Adult\")"
   ]
  },
  {
   "cell_type": "code",
   "execution_count": 11,
   "metadata": {},
   "outputs": [
    {
     "name": "stdout",
     "output_type": "stream",
     "text": [
      "Positive\n"
     ]
    }
   ],
   "source": [
    "a= 10\n",
    "\n",
    "if a>=0:\n",
    "    print(\"Positive\")\n",
    "else:\n",
    "    print(\"Negative\")    "
   ]
  },
  {
   "cell_type": "code",
   "execution_count": 12,
   "metadata": {},
   "outputs": [
    {
     "name": "stdout",
     "output_type": "stream",
     "text": [
      "Negative\n"
     ]
    }
   ],
   "source": [
    "a= -1\n",
    "\n",
    "if a>=0:\n",
    "    print(\"Positive\")\n",
    "else:\n",
    "    print(\"Negative\")    "
   ]
  },
  {
   "cell_type": "code",
   "execution_count": 13,
   "metadata": {},
   "outputs": [
    {
     "name": "stdout",
     "output_type": "stream",
     "text": [
      "Positive\n"
     ]
    }
   ],
   "source": [
    "a = 10\n",
    "print(\"Positive\" if a >=0 else \"Negative\")"
   ]
  },
  {
   "cell_type": "code",
   "execution_count": 14,
   "metadata": {},
   "outputs": [
    {
     "name": "stdout",
     "output_type": "stream",
     "text": [
      "water\n"
     ]
    }
   ],
   "source": [
    "x = input(\"enter your name \")\n",
    "print(x)"
   ]
  },
  {
   "cell_type": "code",
   "execution_count": 17,
   "metadata": {},
   "outputs": [
    {
     "name": "stdout",
     "output_type": "stream",
     "text": [
      "E\n"
     ]
    }
   ],
   "source": [
    "\n",
    "#Chained Conditions \n",
    "grade = 41\n",
    "\n",
    "if grade > 100 or grade<0 :\n",
    "    print(\"Invalid Marks\")\n",
    "elif grade >=90:\n",
    "    print(\"A\")\n",
    "elif grade >=80:\n",
    "    print(\"B\")\n",
    "elif grade >=60:\n",
    "    print(\"C\")\n",
    "elif grade >=50:\n",
    "    print(\"D\")\n",
    "elif grade >=40:\n",
    "    print(\"E\")\n",
    "else:\n",
    "    print(\"Failed\")\n",
    "    \n",
    "    \n"
   ]
  },
  {
   "cell_type": "code",
   "execution_count": 22,
   "metadata": {},
   "outputs": [
    {
     "name": "stdout",
     "output_type": "stream",
     "text": [
      "Negative\n"
     ]
    }
   ],
   "source": [
    "a =-22\n",
    "\n",
    "if a>=0 :\n",
    "    print(\"Positive\",end=\" \")\n",
    "    if a%2 ==0:\n",
    "        print(\"Even\")\n",
    "    else :\n",
    "        print(\"Odd\")\n",
    "else:\n",
    "    print(\"Negative\")        "
   ]
  },
  {
   "cell_type": "code",
   "execution_count": 26,
   "metadata": {},
   "outputs": [
    {
     "name": "stdout",
     "output_type": "stream",
     "text": [
      "1\n",
      "2\n",
      "4\n",
      "5\n"
     ]
    }
   ],
   "source": [
    "count = 1 \n",
    "\n",
    "while count <= 5:\n",
    "    if count==3:\n",
    "        count+=1\n",
    "        continue\n",
    "    print(count)\n",
    "    count+=1"
   ]
  },
  {
   "cell_type": "code",
   "execution_count": 5,
   "metadata": {},
   "outputs": [
    {
     "name": "stdout",
     "output_type": "stream",
     "text": [
      "[1, 2, 3]\n",
      "[1, 2, 3, 4]\n",
      "Computer\n",
      "Computer\n"
     ]
    }
   ],
   "source": [
    "#Passing Mutable obj \n",
    "lst =[1,2,3]\n",
    "\n",
    "def func(lst):\n",
    "    lst.append(4)\n",
    "\n",
    "print(lst)\n",
    "func(lst)\n",
    "print(lst)\n",
    "\n",
    "#Passing Immutable obj \n",
    "\n",
    "s =\"Computer\"\n",
    "\n",
    "def func2(s):\n",
    "    s+=\" Science\"\n",
    "\n",
    "print(s)\n",
    "func2(s)\n",
    "print(s)"
   ]
  },
  {
   "cell_type": "code",
   "execution_count": 11,
   "metadata": {},
   "outputs": [
    {
     "data": {
      "text/plain": [
       "25"
      ]
     },
     "execution_count": 11,
     "metadata": {},
     "output_type": "execute_result"
    }
   ],
   "source": [
    "def double(x):return 2*x\n",
    "def add(x):return x+5\n",
    "\n",
    "r= add(double(10))\n",
    "r"
   ]
  },
  {
   "cell_type": "code",
   "execution_count": 28,
   "metadata": {},
   "outputs": [
    {
     "data": {
      "text/plain": [
       "4.0"
      ]
     },
     "execution_count": 28,
     "metadata": {},
     "output_type": "execute_result"
    }
   ],
   "source": [
    "from math import sqrt as square_root \n",
    "\n",
    "square_root(16)\n"
   ]
  },
  {
   "cell_type": "code",
   "execution_count": 31,
   "metadata": {},
   "outputs": [
    {
     "data": {
      "text/plain": [
       "120"
      ]
     },
     "execution_count": 31,
     "metadata": {},
     "output_type": "execute_result"
    }
   ],
   "source": [
    "def factorial(x): return 1 if x==0 else x*factorial(x-1)\n",
    "\n",
    "factorial(5) "
   ]
  },
  {
   "cell_type": "code",
   "execution_count": 39,
   "metadata": {},
   "outputs": [
    {
     "name": "stdout",
     "output_type": "stream",
     "text": [
      "called sum( 5 )\n",
      "called sum( 4 )\n",
      "called sum( 3 )\n",
      "called sum( 2 )\n",
      "called sum( 1 )\n",
      "called sum( 0 )\n",
      "sum(0)=>returned :0 \n",
      "sum(1)=>returned :1 \n",
      "sum(2)=>returned :3 \n",
      "sum(3)=>returned :6 \n",
      "sum(4)=>returned :10 \n",
      "sum(5)=>returned :15 \n"
     ]
    },
    {
     "data": {
      "text/plain": [
       "15"
      ]
     },
     "execution_count": 39,
     "metadata": {},
     "output_type": "execute_result"
    }
   ],
   "source": [
    "def sum ( x ): \n",
    "    print(\"called sum(\",x,\")\")\n",
    "    if x==0:\n",
    "        print(f\"sum({x})=>returned :{0} \")\n",
    "        return 0\n",
    "    else:\n",
    "        val= x + sum(x-1)\n",
    "        print(f\"sum({x})=>returned :{val} \")\n",
    "        return val\n",
    "\n",
    "sum(5)\n"
   ]
  },
  {
   "cell_type": "markdown",
   "metadata": {},
   "source": [
    "# String Functions"
   ]
  },
  {
   "cell_type": "markdown",
   "metadata": {},
   "source": [
    "## String Traversal"
   ]
  },
  {
   "cell_type": "markdown",
   "metadata": {},
   "source": [
    "> Using for"
   ]
  },
  {
   "cell_type": "code",
   "execution_count": 15,
   "metadata": {},
   "outputs": [
    {
     "name": "stdout",
     "output_type": "stream",
     "text": [
      "H\n",
      "e\n",
      "l\n",
      "l\n",
      "o\n"
     ]
    }
   ],
   "source": [
    "#Visiting Char by Char in a String \n",
    "s = \"Hello\"\n",
    "\n",
    "for c in s: \n",
    "    print(c)\n",
    "\n",
    "    "
   ]
  },
  {
   "cell_type": "markdown",
   "metadata": {},
   "source": [
    "> Using While"
   ]
  },
  {
   "cell_type": "code",
   "execution_count": 16,
   "metadata": {},
   "outputs": [
    {
     "name": "stdout",
     "output_type": "stream",
     "text": [
      "H\n",
      "e\n",
      "l\n",
      "l\n",
      "o\n"
     ]
    }
   ],
   "source": [
    "i = 0\n",
    "s=\"Hello\"\n",
    "while i < len(s):\n",
    "    print(s[i])\n",
    "    i+=1   "
   ]
  },
  {
   "cell_type": "markdown",
   "metadata": {},
   "source": [
    "> using for range "
   ]
  },
  {
   "cell_type": "code",
   "execution_count": 14,
   "metadata": {},
   "outputs": [
    {
     "name": "stdout",
     "output_type": "stream",
     "text": [
      "0 => C\n",
      "1 => o\n",
      "2 => m\n",
      "3 => p\n",
      "4 => u\n",
      "5 => t\n",
      "6 => e\n",
      "7 => r\n"
     ]
    }
   ],
   "source": [
    "\n",
    "s= \"Computer\"\n",
    "\n",
    "for i in range(len(s)):\n",
    "    print(i,\"=>\",s[i])"
   ]
  },
  {
   "cell_type": "code",
   "execution_count": 25,
   "metadata": {},
   "outputs": [
    {
     "name": "stdout",
     "output_type": "stream",
     "text": [
      "7 => r\n",
      "6 => e\n",
      "5 => t\n",
      "4 => u\n",
      "3 => p\n",
      "2 => m\n",
      "1 => o\n",
      "0 => C\n"
     ]
    }
   ],
   "source": [
    "s= \"Computer\"\n",
    "#start is direct \n",
    "#end is exclusive not inclusive \n",
    "for i in range(len(s)-1,-1,-1):\n",
    "    print(i,\"=>\",s[i])"
   ]
  },
  {
   "cell_type": "code",
   "execution_count": 31,
   "metadata": {},
   "outputs": [
    {
     "name": "stdout",
     "output_type": "stream",
     "text": [
      "r\n",
      "e\n",
      "t\n",
      "u\n",
      "p\n",
      "m\n",
      "o\n",
      "C\n"
     ]
    }
   ],
   "source": [
    "s= \"Computer\"\n",
    "\n",
    "for c in reversed(s):\n",
    "    print(c)"
   ]
  },
  {
   "cell_type": "markdown",
   "metadata": {},
   "source": [
    "> Counting vowels in a string"
   ]
  },
  {
   "cell_type": "code",
   "execution_count": 44,
   "metadata": {},
   "outputs": [
    {
     "name": "stdout",
     "output_type": "stream",
     "text": [
      "The total no of vowels are 0\n"
     ]
    }
   ],
   "source": [
    "line = \"Apple is red sometimes!\"\n",
    "vowels = ['a','e','i','o','u']\n",
    "vowelCount=0\n",
    "for c in line :\n",
    "#lower to avoids Case check error  \n",
    "    if(c.lower() in vowels):\n",
    "        vowelCount+=1\n",
    "print(f\"The total no of vowels are {vowelCount}\")"
   ]
  },
  {
   "cell_type": "markdown",
   "metadata": {},
   "source": [
    "> Space counting in text "
   ]
  },
  {
   "cell_type": "code",
   "execution_count": 54,
   "metadata": {},
   "outputs": [
    {
     "name": "stdout",
     "output_type": "stream",
     "text": [
      "The total no of spaces are are 4\n"
     ]
    }
   ],
   "source": [
    "line = \"Apple is red sometimes!\"\n",
    "spaceCount=0\n",
    "for c in line :\n",
    "    if(c == \" \"):\n",
    "        spaceCount+=1\n",
    "print(f\"The total no of spaces are are {spaceCount}\")"
   ]
  },
  {
   "cell_type": "markdown",
   "metadata": {},
   "source": [
    "> Write a Python program to check if a string is a palindrome or not"
   ]
  },
  {
   "cell_type": "code",
   "execution_count": 64,
   "metadata": {},
   "outputs": [
    {
     "data": {
      "text/plain": [
       "(True, False, True)"
      ]
     },
     "execution_count": 64,
     "metadata": {},
     "output_type": "execute_result"
    }
   ],
   "source": [
    "def isPalindrome(s:str):\n",
    "    return s.lower()==s.lower()[::-1]\n",
    "\n",
    "isPalindrome(\"noon\") , isPalindrome(\"Computer\"),isPalindrome(\"Bob\")\n",
    "\n"
   ]
  },
  {
   "cell_type": "markdown",
   "metadata": {},
   "source": [
    "> Write a python program to count the occurrences of each character in a string  "
   ]
  },
  {
   "cell_type": "markdown",
   "metadata": {},
   "source": [
    "## String comparison"
   ]
  },
  {
   "cell_type": "code",
   "execution_count": null,
   "metadata": {},
   "outputs": [
    {
     "data": {
      "text/plain": [
       "'['"
      ]
     },
     "execution_count": 82,
     "metadata": {},
     "output_type": "execute_result"
    }
   ],
   "source": [
    "\"hello\"<=\"hello\""
   ]
  },
  {
   "cell_type": "code",
   "execution_count": 86,
   "metadata": {},
   "outputs": [
    {
     "data": {
      "text/plain": [
       "('Access Granted', 'Access Denied')"
      ]
     },
     "execution_count": 86,
     "metadata": {},
     "output_type": "execute_result"
    }
   ],
   "source": [
    "def checkPassword(s:str):\n",
    "    s= s.strip()\n",
    "    correctPassword =\"abc@123\"\n",
    "    return \"Access Granted\" if s==correctPassword else \"Access Denied\"\n",
    "\n",
    "checkPassword(\"  abc@123  \") ,checkPassword(\"abc@124\")"
   ]
  },
  {
   "cell_type": "markdown",
   "metadata": {},
   "source": [
    "# Sequence "
   ]
  },
  {
   "cell_type": "markdown",
   "metadata": {},
   "source": [
    "## Lists as a sequence "
   ]
  },
  {
   "cell_type": "markdown",
   "metadata": {},
   "source": [
    "### Traversing a List"
   ]
  },
  {
   "cell_type": "markdown",
   "metadata": {},
   "source": [
    "#### Using for "
   ]
  },
  {
   "cell_type": "code",
   "execution_count": 4,
   "metadata": {},
   "outputs": [
    {
     "name": "stdout",
     "output_type": "stream",
     "text": [
      "1,2,3,apple,banana,"
     ]
    }
   ],
   "source": [
    "my_list = [ 1,2,3,'apple', 'banana']\n",
    "for item in my_list:\n",
    "    print(item, end=\",\")"
   ]
  },
  {
   "cell_type": "markdown",
   "metadata": {},
   "source": [
    "#### Using for range"
   ]
  },
  {
   "cell_type": "code",
   "execution_count": 6,
   "metadata": {},
   "outputs": [
    {
     "name": "stdout",
     "output_type": "stream",
     "text": [
      "0=>1\n",
      "1=>2\n",
      "2=>3\n",
      "3=>apple\n",
      "4=>banana\n"
     ]
    }
   ],
   "source": [
    "for index in range(len(my_list)):\n",
    "    print(f\"{index}=>{my_list[index]}\")"
   ]
  },
  {
   "cell_type": "markdown",
   "metadata": {},
   "source": [
    "#### Using List Comprehension"
   ]
  },
  {
   "cell_type": "code",
   "execution_count": 16,
   "metadata": {},
   "outputs": [
    {
     "data": {
      "text/plain": [
       "[1, 4, 9]"
      ]
     },
     "execution_count": 16,
     "metadata": {},
     "output_type": "execute_result"
    }
   ],
   "source": [
    "new_list = [x**2 for x in my_list if isinstance(x,int)]\n",
    "new_list"
   ]
  },
  {
   "cell_type": "markdown",
   "metadata": {},
   "source": [
    "#### Using Enumeration"
   ]
  },
  {
   "cell_type": "code",
   "execution_count": 20,
   "metadata": {},
   "outputs": [
    {
     "name": "stdout",
     "output_type": "stream",
     "text": [
      "0 => 1\n",
      "1 => 2\n",
      "2 => 3\n",
      "3 => apple\n",
      "4 => banana\n"
     ]
    }
   ],
   "source": [
    "for index,value in enumerate(my_list):\n",
    "    print(f\"{index} => {value}\")"
   ]
  },
  {
   "cell_type": "markdown",
   "metadata": {},
   "source": [
    "#### Using While loop"
   ]
  },
  {
   "cell_type": "code",
   "execution_count": 23,
   "metadata": {},
   "outputs": [
    {
     "name": "stdout",
     "output_type": "stream",
     "text": [
      "1\n",
      "2\n",
      "3\n",
      "apple\n",
      "banana\n"
     ]
    }
   ],
   "source": [
    "index =0 \n",
    "while index <len(my_list):\n",
    "    print(my_list[index])\n",
    "    index+=1"
   ]
  },
  {
   "cell_type": "markdown",
   "metadata": {},
   "source": [
    "### List Operations "
   ]
  },
  {
   "cell_type": "markdown",
   "metadata": {},
   "source": [
    "#### Adding and Removing Elements"
   ]
  },
  {
   "cell_type": "code",
   "execution_count": null,
   "metadata": {},
   "outputs": [],
   "source": [
    "my_list = [ 1,2,3,'apple', 'banana']\n",
    "# my_list.append(4)\n",
    "# my_list.insert(3,5)\n",
    "# my_list.remove(2) # deletes first occurrence of an element  \n",
    "my_list.pop(0)\n",
    "my_list\n",
    "del my_list\n"
   ]
  },
  {
   "cell_type": "markdown",
   "metadata": {},
   "source": [
    "#### List Modification "
   ]
  },
  {
   "cell_type": "code",
   "execution_count": 55,
   "metadata": {},
   "outputs": [
    {
     "data": {
      "text/plain": [
       "[5, 2, 3, 'apple', 'banana']"
      ]
     },
     "execution_count": 55,
     "metadata": {},
     "output_type": "execute_result"
    }
   ],
   "source": [
    "my_list = [ 1,2,3,'apple', 'banana']\n",
    "\n",
    "my_list[0]=5\n",
    "my_list"
   ]
  },
  {
   "cell_type": "code",
   "execution_count": 61,
   "metadata": {},
   "outputs": [
    {
     "name": "stdout",
     "output_type": "stream",
     "text": [
      "Apple no no \n"
     ]
    }
   ],
   "source": [
    "if 'mango' in my_list:\n",
    "    print(\"Yes\")\n",
    "else:\n",
    "    print(\"Apple no no \")"
   ]
  },
  {
   "cell_type": "markdown",
   "metadata": {},
   "source": [
    "#### Copying a list"
   ]
  },
  {
   "cell_type": "code",
   "execution_count": 64,
   "metadata": {},
   "outputs": [
    {
     "data": {
      "text/plain": [
       "([5, 2, 3, 'apple', 'banana'], [5, 2, 3, 'apple', 'banana'])"
      ]
     },
     "execution_count": 64,
     "metadata": {},
     "output_type": "execute_result"
    }
   ],
   "source": [
    "new_list = my_list.copy()\n",
    "new_list,my_list"
   ]
  },
  {
   "cell_type": "markdown",
   "metadata": {},
   "source": [
    "#### Joining of two lists"
   ]
  },
  {
   "cell_type": "code",
   "execution_count": null,
   "metadata": {},
   "outputs": [
    {
     "data": {
      "text/plain": [
       "[1, 2, 3, 4, 5, 6, 7]"
      ]
     },
     "execution_count": 66,
     "metadata": {},
     "output_type": "execute_result"
    }
   ],
   "source": [
    "lst1 =[1,2,3,4]\n",
    "lst2= [5,6,7]\n",
    "lst1+lst2"
   ]
  },
  {
   "cell_type": "markdown",
   "metadata": {},
   "source": [
    "#### List Slices\n",
    "  list_name [start-included:stops-excluded:steps-optional]\n",
    "    "
   ]
  },
  {
   "cell_type": "code",
   "execution_count": 1,
   "metadata": {},
   "outputs": [],
   "source": [
    "my_list = [i for i in range(10)]"
   ]
  },
  {
   "cell_type": "code",
   "execution_count": 14,
   "metadata": {},
   "outputs": [
    {
     "data": {
      "text/plain": [
       "[5, 6, 7]"
      ]
     },
     "execution_count": 14,
     "metadata": {},
     "output_type": "execute_result"
    }
   ],
   "source": [
    "sub_list = my_list[-5:-2]\n",
    "sub_list"
   ]
  },
  {
   "cell_type": "markdown",
   "metadata": {},
   "source": [
    "#### List Mapping \n",
    "```python\n",
    "map(function,iterable)\n",
    "```"
   ]
  },
  {
   "cell_type": "markdown",
   "metadata": {},
   "source": [
    "> Doubling a list "
   ]
  },
  {
   "cell_type": "code",
   "execution_count": 19,
   "metadata": {},
   "outputs": [
    {
     "data": {
      "text/plain": [
       "[2, 4, 6, 8, 10]"
      ]
     },
     "execution_count": 19,
     "metadata": {},
     "output_type": "execute_result"
    }
   ],
   "source": [
    "lst1 = [1,2,3,4,5]\n",
    "dub =[]\n",
    "list\n",
    "for i in lst1:\n",
    "    dub.append(i*2)\n",
    "    \n",
    "dub\n"
   ]
  },
  {
   "cell_type": "code",
   "execution_count": 25,
   "metadata": {},
   "outputs": [
    {
     "data": {
      "text/plain": [
       "(2, 4, 6, 8, 10)"
      ]
     },
     "execution_count": 25,
     "metadata": {},
     "output_type": "execute_result"
    }
   ],
   "source": [
    "dub=list(map(lambda x:2*x,lst1))\n",
    "dub"
   ]
  },
  {
   "cell_type": "markdown",
   "metadata": {},
   "source": [
    "> Convert to upper"
   ]
  },
  {
   "cell_type": "code",
   "execution_count": 29,
   "metadata": {},
   "outputs": [
    {
     "data": {
      "text/plain": [
       "['APPLE', 'BANANA', 'CARROT']"
      ]
     },
     "execution_count": 29,
     "metadata": {},
     "output_type": "execute_result"
    }
   ],
   "source": [
    "fruits = ['apple','banana','carrot']\n",
    "\n",
    "upper_fruits=list(map(str.upper,fruits))\n",
    "upper_fruits"
   ]
  },
  {
   "cell_type": "markdown",
   "metadata": {},
   "source": [
    "> Handling Multiple lists using map:\n",
    " adding corresponding elements"
   ]
  },
  {
   "cell_type": "code",
   "execution_count": 33,
   "metadata": {},
   "outputs": [
    {
     "data": {
      "text/plain": [
       "[8, 11, 13]"
      ]
     },
     "execution_count": 33,
     "metadata": {},
     "output_type": "execute_result"
    }
   ],
   "source": [
    "lst1=[1,5,9]\n",
    "lst2=[7,6,4]\n",
    "\n",
    "lst3 = list(map(int.__add__,lst1,lst2))\n",
    "lst3"
   ]
  },
  {
   "cell_type": "markdown",
   "metadata": {},
   "source": [
    "#### List and Strings"
   ]
  },
  {
   "cell_type": "markdown",
   "metadata": {},
   "source": [
    "##### Similarities \n",
    "1. Both are sequences \n",
    "2. Both can be sliced \n",
    "3. Both can be used in ```len()```"
   ]
  },
  {
   "cell_type": "code",
   "execution_count": null,
   "metadata": {},
   "outputs": [],
   "source": [
    "s=\"Computer\"\n",
    "l=[1,2,3,4.0,\"BCA\"]\n",
    "\n"
   ]
  },
  {
   "cell_type": "markdown",
   "metadata": {},
   "source": [
    "##### Differences \n",
    "1. Heterogenous Elements in list and characters only in String \n",
    "2. Different Methods\n",
    "3. Lists are mutable strings are not "
   ]
  },
  {
   "cell_type": "markdown",
   "metadata": {},
   "source": [
    "### Dictionary"
   ]
  },
  {
   "cell_type": "code",
   "execution_count": null,
   "metadata": {},
   "outputs": [],
   "source": [
    "#Declaration\n",
    "d={'apple': 3, 'banana':5}\n"
   ]
  },
  {
   "cell_type": "markdown",
   "metadata": {},
   "source": [
    "#### Dictionary as a set of counters"
   ]
  },
  {
   "cell_type": "code",
   "execution_count": 19,
   "metadata": {},
   "outputs": [
    {
     "name": "stdout",
     "output_type": "stream",
     "text": [
      "{'a': 4, 'b': 2, 'c': 2, 1: 1}\n"
     ]
    }
   ],
   "source": [
    "d= {}\n",
    "l=['a','b','a','c','a','b','a','c']\n",
    "for i in l :\n",
    "    if i in d: \n",
    "        d[i]+=1\n",
    "    else:\n",
    "        d[i]=1\n",
    "print(d)"
   ]
  },
  {
   "cell_type": "markdown",
   "metadata": {},
   "source": [
    "H/W : s= sentence \n",
    "        get count of word "
   ]
  },
  {
   "cell_type": "code",
   "execution_count": 22,
   "metadata": {},
   "outputs": [
    {
     "name": "stdout",
     "output_type": "stream",
     "text": [
      "{'water': 2, 'is': 2, 'good': 1, 'and': 1, 'nice': 1}\n"
     ]
    }
   ],
   "source": [
    "s=\"Water is good and water is nice\"\n",
    "l= s.lower().split(\" \")\n",
    "d= {}\n",
    "for i in l :\n",
    "    if i in d: \n",
    "        d[i]+=1\n",
    "    else:\n",
    "        d[i]=1\n",
    "print(d)\n"
   ]
  },
  {
   "cell_type": "markdown",
   "metadata": {},
   "source": [
    "#### Loops in Dictionary"
   ]
  },
  {
   "cell_type": "code",
   "execution_count": 45,
   "metadata": {},
   "outputs": [
    {
     "name": "stdout",
     "output_type": "stream",
     "text": [
      "name\n",
      "age\n",
      "grade\n"
     ]
    }
   ],
   "source": [
    "stu={'name':'Alex','age':18,'grade':\"Sem-6th\"}\n",
    "\n",
    "for key in stu:\n",
    "    print(key)"
   ]
  },
  {
   "cell_type": "code",
   "execution_count": 29,
   "metadata": {},
   "outputs": [
    {
     "name": "stdout",
     "output_type": "stream",
     "text": [
      "Alex | 18 | Sem-6th | "
     ]
    }
   ],
   "source": [
    "for value in stu.values():\n",
    "    print(value,end=\" | \")"
   ]
  },
  {
   "cell_type": "code",
   "execution_count": 35,
   "metadata": {},
   "outputs": [
    {
     "name": "stdout",
     "output_type": "stream",
     "text": [
      "name =>  Alex\n",
      "age =>  18\n",
      "grade =>  Sem-6th\n"
     ]
    }
   ],
   "source": [
    "for key,value in stu.items():\n",
    "    print(key,\"=> \",value)"
   ]
  },
  {
   "cell_type": "markdown",
   "metadata": {},
   "source": [
    "#### Modifying dictionary"
   ]
  },
  {
   "cell_type": "code",
   "execution_count": 46,
   "metadata": {},
   "outputs": [
    {
     "name": "stdout",
     "output_type": "stream",
     "text": [
      "{'name': 'Alex', 'age': 20, 'grade': 'Sem-6th'}\n"
     ]
    }
   ],
   "source": [
    "stu['age']=20\n",
    "print(stu)"
   ]
  },
  {
   "cell_type": "code",
   "execution_count": null,
   "metadata": {},
   "outputs": [
    {
     "name": "stdout",
     "output_type": "stream",
     "text": [
      "{'M': 80, 'C': 90, 'H': 6}\n"
     ]
    }
   ],
   "source": [
    "marks={'M':75,'C':85,'H':71}\n",
    "\n",
    "for i in marks:\n",
    "    marks[i]+=5\n",
    "print(marks)\n"
   ]
  },
  {
   "cell_type": "code",
   "execution_count": null,
   "metadata": {},
   "outputs": [
    {
     "name": "stdout",
     "output_type": "stream",
     "text": [
      "B is absent\n"
     ]
    }
   ],
   "source": [
    "#Checking for key \n",
    "\n",
    "if 'B' in marks:\n",
    "    print(\"Present\")\n",
    "else:\n",
    "    print(\"Absent\")"
   ]
  },
  {
   "cell_type": "code",
   "execution_count": 59,
   "metadata": {},
   "outputs": [
    {
     "data": {
      "text/plain": [
       "3"
      ]
     },
     "execution_count": 59,
     "metadata": {},
     "output_type": "execute_result"
    }
   ],
   "source": [
    "#items count in a dictionary\n",
    "len(marks)"
   ]
  },
  {
   "cell_type": "markdown",
   "metadata": {},
   "source": [
    "#### Reverse Look up"
   ]
  },
  {
   "cell_type": "code",
   "execution_count": null,
   "metadata": {},
   "outputs": [
    {
     "name": "stdout",
     "output_type": "stream",
     "text": [
      "['a', 'c']\n",
      "water\n"
     ]
    }
   ],
   "source": [
    "def reverseLookUp(d , v ):\n",
    "   return x if (x:=[k for k in d if d[k]==v]) else None\n",
    "\n",
    "stu={'a':90,'b':80,'c':90}\n",
    "print(reverseLookUp(stu,90))"
   ]
  },
  {
   "cell_type": "markdown",
   "metadata": {},
   "source": [
    "#### DIctionary and List"
   ]
  },
  {
   "cell_type": "markdown",
   "metadata": {},
   "source": [
    "dict={} \n",
    "list=[]\n",
    "\n",
    "keys \n",
    "index \n",
    "\n",
    "mutable \n",
    "mutable \n",
    "\n",
    "no duplication in keys but values are possible\n",
    "can have duplicates \n",
    "\n",
    "both are sequences \n",
    "\n",
    "both are can be Nested\n",
    "\n",
    "both can be passed to  ```len()```\n"
   ]
  },
  {
   "cell_type": "markdown",
   "metadata": {},
   "source": [
    "### Tuple "
   ]
  },
  {
   "cell_type": "markdown",
   "metadata": {},
   "source": [
    "init : {}"
   ]
  },
  {
   "cell_type": "markdown",
   "metadata": {},
   "source": [
    "##### Tuple \n",
    "1. Immutable \n",
    "2. Indexed "
   ]
  },
  {
   "cell_type": "markdown",
   "metadata": {},
   "source": [
    "#### Tuple assignment"
   ]
  },
  {
   "cell_type": "code",
   "execution_count": 41,
   "metadata": {},
   "outputs": [
    {
     "name": "stdout",
     "output_type": "stream",
     "text": [
      "10 20\n",
      "20 10\n"
     ]
    }
   ],
   "source": [
    "#Swapping values of two variables using tuple assignment \n",
    "(a,b)=[10,20]\n",
    "print(a,b)\n",
    "(a,b)= (b,a)\n",
    "print(a,b)\n",
    "\n"
   ]
  },
  {
   "cell_type": "code",
   "execution_count": 52,
   "metadata": {},
   "outputs": [
    {
     "data": {
      "text/plain": [
       "(10, 20, 30)"
      ]
     },
     "execution_count": 52,
     "metadata": {},
     "output_type": "execute_result"
    }
   ],
   "source": [
    "x,_,z=(10,20,30)\n",
    "x,_,z"
   ]
  },
  {
   "cell_type": "code",
   "execution_count": 61,
   "metadata": {},
   "outputs": [
    {
     "data": {
      "text/plain": [
       "(0, [1, 2, 3, 4, 5, 6, 7, 8], 9)"
      ]
     },
     "execution_count": 61,
     "metadata": {},
     "output_type": "execute_result"
    }
   ],
   "source": [
    "x,*y,z = (i for i in range(10))\n",
    "\n",
    "x,y,z\n"
   ]
  }
 ],
 "metadata": {
  "kernelspec": {
   "display_name": "Python 3",
   "language": "python",
   "name": "python3"
  },
  "language_info": {
   "codemirror_mode": {
    "name": "ipython",
    "version": 3
   },
   "file_extension": ".py",
   "mimetype": "text/x-python",
   "name": "python",
   "nbconvert_exporter": "python",
   "pygments_lexer": "ipython3",
   "version": "3.11.4"
  }
 },
 "nbformat": 4,
 "nbformat_minor": 2
}
